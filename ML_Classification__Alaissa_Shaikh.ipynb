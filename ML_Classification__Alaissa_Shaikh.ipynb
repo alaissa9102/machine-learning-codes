{
  "nbformat": 4,
  "nbformat_minor": 0,
  "metadata": {
    "colab": {
      "provenance": []
    },
    "kernelspec": {
      "name": "python3",
      "display_name": "Python 3"
    },
    "language_info": {
      "name": "python"
    }
  },
  "cells": [
    {
      "cell_type": "markdown",
      "source": [
        "\n",
        "\n",
        "---\n",
        "\n",
        "\n",
        "**MACHINE LEARNING- CLASSIFICATIONS**\n",
        "\n",
        "**SUBMISSION BY - ALAISSA SHAIKH**\n",
        "\n",
        "---\n",
        "\n"
      ],
      "metadata": {
        "id": "tc-HLicN9NUW"
      }
    },
    {
      "cell_type": "code",
      "execution_count": null,
      "metadata": {
        "id": "LJ5H1JkB4w-c"
      },
      "outputs": [],
      "source": [
        "#importing libraries\n",
        "import pandas as pd\n",
        "from sklearn.model_selection import train_test_split\n",
        "from sklearn.impute import SimpleImputer\n",
        "from sklearn.naive_bayes import GaussianNB\n",
        "from sklearn.ensemble import RandomForestClassifier\n",
        "from sklearn.tree import DecisionTreeClassifier\n",
        "from sklearn.svm import SVC\n",
        "from sklearn.neighbors import KNeighborsClassifier\n",
        "from sklearn.preprocessing import StandardScaler\n",
        "from sklearn.metrics import accuracy_score, classification_report\n",
        "from sklearn.pipeline import Pipeline\n",
        "import matplotlib.pyplot as plt"
      ]
    },
    {
      "cell_type": "code",
      "source": [
        "#importing the dataset\n",
        "data = pd.read_csv('/content/ML_PCOS.csv')"
      ],
      "metadata": {
        "id": "AzZBVjKA5M6d"
      },
      "execution_count": null,
      "outputs": []
    },
    {
      "cell_type": "code",
      "source": [
        "#displaying the dataset info and first few rows\n",
        "data.info()"
      ],
      "metadata": {
        "colab": {
          "base_uri": "https://localhost:8080/"
        },
        "id": "hSO_8Ih95M9p",
        "outputId": "c167932d-c2bb-485d-ae6c-07b8409a6520"
      },
      "execution_count": null,
      "outputs": [
        {
          "output_type": "stream",
          "name": "stdout",
          "text": [
            "<class 'pandas.core.frame.DataFrame'>\n",
            "RangeIndex: 541 entries, 0 to 540\n",
            "Data columns (total 45 columns):\n",
            " #   Column                  Non-Null Count  Dtype  \n",
            "---  ------                  --------------  -----  \n",
            " 0   Sl. No                  541 non-null    int64  \n",
            " 1   Patient File No.        541 non-null    int64  \n",
            " 2   PCOS (Y/N)              541 non-null    int64  \n",
            " 3    Age (yrs)              541 non-null    int64  \n",
            " 4   Weight (Kg)             541 non-null    float64\n",
            " 5   Height(Cm)              541 non-null    float64\n",
            " 6   BMI                     541 non-null    float64\n",
            " 7   Blood Group             541 non-null    int64  \n",
            " 8   Pulse rate(bpm)         541 non-null    int64  \n",
            " 9   RR (breaths/min)        541 non-null    int64  \n",
            " 10  Hb(g/dl)                541 non-null    float64\n",
            " 11  Cycle(R/I)              541 non-null    int64  \n",
            " 12  Cycle length(days)      541 non-null    int64  \n",
            " 13  Marraige Status (Yrs)   540 non-null    float64\n",
            " 14  Pregnant(Y/N)           541 non-null    int64  \n",
            " 15  No. of abortions        541 non-null    int64  \n",
            " 16    I   beta-HCG(mIU/mL)  541 non-null    float64\n",
            " 17  II    beta-HCG(mIU/mL)  541 non-null    object \n",
            " 18  FSH(mIU/mL)             541 non-null    float64\n",
            " 19  LH(mIU/mL)              541 non-null    float64\n",
            " 20  FSH/LH                  541 non-null    float64\n",
            " 21  Hip(inch)               541 non-null    int64  \n",
            " 22  Waist(inch)             541 non-null    int64  \n",
            " 23  Waist:Hip Ratio         541 non-null    float64\n",
            " 24  TSH (mIU/L)             541 non-null    float64\n",
            " 25  AMH(ng/mL)              541 non-null    object \n",
            " 26  PRL(ng/mL)              541 non-null    float64\n",
            " 27  Vit D3 (ng/mL)          541 non-null    float64\n",
            " 28  PRG(ng/mL)              541 non-null    float64\n",
            " 29  RBS(mg/dl)              541 non-null    float64\n",
            " 30  Weight gain(Y/N)        541 non-null    int64  \n",
            " 31  hair growth(Y/N)        541 non-null    int64  \n",
            " 32  Skin darkening (Y/N)    541 non-null    int64  \n",
            " 33  Hair loss(Y/N)          541 non-null    int64  \n",
            " 34  Pimples(Y/N)            541 non-null    int64  \n",
            " 35  Fast food (Y/N)         540 non-null    float64\n",
            " 36  Reg.Exercise(Y/N)       541 non-null    int64  \n",
            " 37  BP _Systolic (mmHg)     541 non-null    int64  \n",
            " 38  BP _Diastolic (mmHg)    541 non-null    int64  \n",
            " 39  Follicle No. (L)        541 non-null    int64  \n",
            " 40  Follicle No. (R)        541 non-null    int64  \n",
            " 41  Avg. F size (L) (mm)    541 non-null    float64\n",
            " 42  Avg. F size (R) (mm)    541 non-null    float64\n",
            " 43  Endometrium (mm)        541 non-null    float64\n",
            " 44  Unnamed: 44             2 non-null      object \n",
            "dtypes: float64(19), int64(23), object(3)\n",
            "memory usage: 190.3+ KB\n"
          ]
        }
      ]
    },
    {
      "cell_type": "code",
      "source": [
        "print(data.head())"
      ],
      "metadata": {
        "colab": {
          "base_uri": "https://localhost:8080/"
        },
        "id": "Mav4iFYH5NAg",
        "outputId": "950c5aca-b693-4dba-d45e-ac37bc6452d9"
      },
      "execution_count": null,
      "outputs": [
        {
          "output_type": "stream",
          "name": "stdout",
          "text": [
            "   Sl. No  Patient File No.  PCOS (Y/N)   Age (yrs)  Weight (Kg)  Height(Cm)   \\\n",
            "0       1                 1           0          28         44.6        152.0   \n",
            "1       2                 2           0          36         65.0        161.5   \n",
            "2       3                 3           1          33         68.8        165.0   \n",
            "3       4                 4           0          37         65.0        148.0   \n",
            "4       5                 5           0          25         52.0        161.0   \n",
            "\n",
            "    BMI  Blood Group  Pulse rate(bpm)   RR (breaths/min)  ...  \\\n",
            "0  19.3           15                78                22  ...   \n",
            "1  24.9           15                74                20  ...   \n",
            "2  25.3           11                72                18  ...   \n",
            "3  29.7           13                72                20  ...   \n",
            "4  20.1           11                72                18  ...   \n",
            "\n",
            "   Fast food (Y/N)  Reg.Exercise(Y/N)  BP _Systolic (mmHg)  \\\n",
            "0              1.0                  0                  110   \n",
            "1              0.0                  0                  120   \n",
            "2              1.0                  0                  120   \n",
            "3              0.0                  0                  120   \n",
            "4              0.0                  0                  120   \n",
            "\n",
            "   BP _Diastolic (mmHg)  Follicle No. (L)  Follicle No. (R)  \\\n",
            "0                    80                 3                 3   \n",
            "1                    70                 3                 5   \n",
            "2                    80                13                15   \n",
            "3                    70                 2                 2   \n",
            "4                    80                 3                 4   \n",
            "\n",
            "   Avg. F size (L) (mm) Avg. F size (R) (mm)  Endometrium (mm)  Unnamed: 44  \n",
            "0                  18.0                 18.0               8.5          NaN  \n",
            "1                  15.0                 14.0               3.7          NaN  \n",
            "2                  18.0                 20.0              10.0          NaN  \n",
            "3                  15.0                 14.0               7.5          NaN  \n",
            "4                  16.0                 14.0               7.0          NaN  \n",
            "\n",
            "[5 rows x 45 columns]\n"
          ]
        }
      ]
    },
    {
      "cell_type": "code",
      "source": [
        "#checking for missing values\n",
        "print(data.isna().sum())"
      ],
      "metadata": {
        "colab": {
          "base_uri": "https://localhost:8080/"
        },
        "id": "Ce2WSRaI5NDI",
        "outputId": "6ab4b4d5-4b6d-41be-c147-e70238976787"
      },
      "execution_count": null,
      "outputs": [
        {
          "output_type": "stream",
          "name": "stdout",
          "text": [
            "Sl. No                      0\n",
            "Patient File No.            0\n",
            "PCOS (Y/N)                  0\n",
            " Age (yrs)                  0\n",
            "Weight (Kg)                 0\n",
            "Height(Cm)                  0\n",
            "BMI                         0\n",
            "Blood Group                 0\n",
            "Pulse rate(bpm)             0\n",
            "RR (breaths/min)            0\n",
            "Hb(g/dl)                    0\n",
            "Cycle(R/I)                  0\n",
            "Cycle length(days)          0\n",
            "Marraige Status (Yrs)       1\n",
            "Pregnant(Y/N)               0\n",
            "No. of abortions            0\n",
            "  I   beta-HCG(mIU/mL)      0\n",
            "II    beta-HCG(mIU/mL)      0\n",
            "FSH(mIU/mL)                 0\n",
            "LH(mIU/mL)                  0\n",
            "FSH/LH                      0\n",
            "Hip(inch)                   0\n",
            "Waist(inch)                 0\n",
            "Waist:Hip Ratio             0\n",
            "TSH (mIU/L)                 0\n",
            "AMH(ng/mL)                  0\n",
            "PRL(ng/mL)                  0\n",
            "Vit D3 (ng/mL)              0\n",
            "PRG(ng/mL)                  0\n",
            "RBS(mg/dl)                  0\n",
            "Weight gain(Y/N)            0\n",
            "hair growth(Y/N)            0\n",
            "Skin darkening (Y/N)        0\n",
            "Hair loss(Y/N)              0\n",
            "Pimples(Y/N)                0\n",
            "Fast food (Y/N)             1\n",
            "Reg.Exercise(Y/N)           0\n",
            "BP _Systolic (mmHg)         0\n",
            "BP _Diastolic (mmHg)        0\n",
            "Follicle No. (L)            0\n",
            "Follicle No. (R)            0\n",
            "Avg. F size (L) (mm)        0\n",
            "Avg. F size (R) (mm)        0\n",
            "Endometrium (mm)            0\n",
            "Unnamed: 44               539\n",
            "dtype: int64\n"
          ]
        }
      ]
    },
    {
      "cell_type": "code",
      "source": [
        "#inspecting non-numeric values in these columns\n",
        "for column in non_numeric_columns:\n",
        "    print(f\"Unique values in '{column}':\", data[column].unique())"
      ],
      "metadata": {
        "colab": {
          "base_uri": "https://localhost:8080/"
        },
        "id": "R2ZqEwi46V0B",
        "outputId": "46a90cd8-df83-43da-85f8-53d14fff2494"
      },
      "execution_count": null,
      "outputs": [
        {
          "output_type": "stream",
          "name": "stdout",
          "text": [
            "Unique values in 'II    beta-HCG(mIU/mL)': ['1.99' '494.08' '801.45' '100.51' '158.51' '1214.23' '91.55' '749.98'\n",
            " '218.65' '13' '610.63' '4490.18' '11.24' '15' '768.03' '12' '10' '20'\n",
            " '30.66' '1455' '497.41' '167' '9.83' '141.06' '528.5' '177.57' '65.03'\n",
            " '173.66' '161.49' '3.98' '756.61' '255.02' '273.7' '14.46' '145.89'\n",
            " '100.09' '110.17' '174.37' '75.51' '3893.06' '600.23' '3350.19' '97.63'\n",
            " '14.4' '2' '177.58' '12.17' '25.3' '100.2' '479.66' '1.9' '586.06'\n",
            " '1.99.' '2.8' '15.36' '54.08' '152.13' '3.05' '201.36' '16069.69' '57.08'\n",
            " '232.71' '23.5' '180.3' '102.3' '481.3' '563.8' '4.32' '230.5' '155.3'\n",
            " '3.888' '523.6' '1.65' '3.83' '569.1' '236.5' '896.6' '2.58' '569.3'\n",
            " '108.66' '3.99' '121.8' '122.58' '355.28' '122.3' '596.2' '588.7' '147.6'\n",
            " '12.37' '144.63' '475.04' '515.53' '99.69' '70.42' '342.91' '148.52'\n",
            " '272.78' '355.51' '150.91' '391.46' '464.12' '41.77' '1390.58' '213.83'\n",
            " '45.9' '18.36' '154.48' '25000' '638.52' '4.76' '18.13' '89.34' '366.04'\n",
            " '14.34' '75.62' '4.96' '1134.4' '785.95' '229.86' '3.9' '297.21' '277.28'\n",
            " '783.36' '21084.21' '409.85' '410.13' '479.6' '545.78' '320.49' '78.38'\n",
            " '204.69' '900.6' '159.71' '296.31' '4176' '183.06' '161.77' '61.98'\n",
            " '403.85' '34.65' '48.86' '371.74' '970.75' '109.06' '1082.82' '739.13'\n",
            " '288.72' '18.49' '169.33' '418.9' '53.82' '10.45' '764.83' '116.31'\n",
            " '300.13' '5.39' '346.59' '6.19' '187.79' '459.63' '3.01' '278.52' '10.84'\n",
            " '184.42' '4.2' '278.32' '232.64' '167.41' '230.53' '10.4' '465.01'\n",
            " '41.75' '8.54' '382.36' '10.98' '252.72' '67.2' '6.921' '482.21' '0.99'\n",
            " '103.5' '102.87' '90.67' '375.18' '728.01' '433.97' '213.14' '238.14'\n",
            " '181.23' '491.85' '19.44' '13.12' '1.92' '268.37' '8' '9.35' '127.2'\n",
            " '56.4' '168.99' '237.5' '10.24' '104.87' '5.81']\n",
            "Unique values in 'Unnamed: 44': [nan '.' '7']\n"
          ]
        }
      ]
    },
    {
      "cell_type": "code",
      "source": [
        "#replacing problematic non-numeric values\n",
        "data['II    beta-HCG(mIU/mL)'] = pd.to_numeric(data['II    beta-HCG(mIU/mL)'], errors='coerce')\n",
        "data['AMH(ng/mL)'] = pd.to_numeric(data['AMH(ng/mL)'], errors='coerce')"
      ],
      "metadata": {
        "id": "cptbP81r6ZQx"
      },
      "execution_count": null,
      "outputs": []
    },
    {
      "cell_type": "code",
      "source": [
        "#handling missing values after conversion\n",
        "data['II    beta-HCG(mIU/mL)'].fillna(data['II    beta-HCG(mIU/mL)'].mean(), inplace=True)\n",
        "data['AMH(ng/mL)'].fillna(data['AMH(ng/mL)'].mean(), inplace=True)"
      ],
      "metadata": {
        "id": "OCQyK0vu6b3Q"
      },
      "execution_count": null,
      "outputs": []
    },
    {
      "cell_type": "code",
      "source": [
        "#reconfirming that all values are now numeric\n",
        "print(\"Data types after cleaning:\")\n",
        "print(data.dtypes)"
      ],
      "metadata": {
        "colab": {
          "base_uri": "https://localhost:8080/"
        },
        "id": "UtgmuFfn6fgs",
        "outputId": "cbcb7f00-182b-4f51-c924-9c1060cad20e"
      },
      "execution_count": null,
      "outputs": [
        {
          "output_type": "stream",
          "name": "stdout",
          "text": [
            "Data types after cleaning:\n",
            "Sl. No                      int64\n",
            "Patient File No.            int64\n",
            "PCOS (Y/N)                  int64\n",
            " Age (yrs)                  int64\n",
            "Weight (Kg)               float64\n",
            "Height(Cm)                float64\n",
            "BMI                       float64\n",
            "Blood Group                 int64\n",
            "Pulse rate(bpm)             int64\n",
            "RR (breaths/min)            int64\n",
            "Hb(g/dl)                  float64\n",
            "Cycle(R/I)                  int64\n",
            "Cycle length(days)          int64\n",
            "Marraige Status (Yrs)     float64\n",
            "Pregnant(Y/N)               int64\n",
            "No. of abortions            int64\n",
            "  I   beta-HCG(mIU/mL)    float64\n",
            "II    beta-HCG(mIU/mL)    float64\n",
            "FSH(mIU/mL)               float64\n",
            "LH(mIU/mL)                float64\n",
            "FSH/LH                    float64\n",
            "Hip(inch)                   int64\n",
            "Waist(inch)                 int64\n",
            "Waist:Hip Ratio           float64\n",
            "TSH (mIU/L)               float64\n",
            "AMH(ng/mL)                float64\n",
            "PRL(ng/mL)                float64\n",
            "Vit D3 (ng/mL)            float64\n",
            "PRG(ng/mL)                float64\n",
            "RBS(mg/dl)                float64\n",
            "Weight gain(Y/N)            int64\n",
            "hair growth(Y/N)            int64\n",
            "Skin darkening (Y/N)        int64\n",
            "Hair loss(Y/N)              int64\n",
            "Pimples(Y/N)                int64\n",
            "Fast food (Y/N)           float64\n",
            "Reg.Exercise(Y/N)           int64\n",
            "BP _Systolic (mmHg)         int64\n",
            "BP _Diastolic (mmHg)        int64\n",
            "Follicle No. (L)            int64\n",
            "Follicle No. (R)            int64\n",
            "Avg. F size (L) (mm)      float64\n",
            "Avg. F size (R) (mm)      float64\n",
            "Endometrium (mm)          float64\n",
            "Unnamed: 44                object\n",
            "dtype: object\n"
          ]
        }
      ]
    },
    {
      "cell_type": "code",
      "source": [
        "#defining the target and features\n",
        "y = data['PCOS (Y/N)']\n",
        "X = data.drop(['PCOS (Y/N)', 'Patient File No.', 'Unnamed: 44'], axis=1)"
      ],
      "metadata": {
        "id": "pHvVKfkx5rRl"
      },
      "execution_count": null,
      "outputs": []
    },
    {
      "cell_type": "code",
      "source": [
        "#splitting the data into training and testing sets\n",
        "X_train, X_test, y_train, y_test = train_test_split(X, y, test_size=0.2, random_state=42)"
      ],
      "metadata": {
        "id": "u8wpna-H5rUb"
      },
      "execution_count": null,
      "outputs": []
    },
    {
      "cell_type": "markdown",
      "source": [
        "\n",
        "\n",
        "---\n",
        "\n",
        "\n",
        "### **RANDOM FOREST CLASSIFIER**\n",
        "\n",
        "\n",
        "---\n",
        "\n"
      ],
      "metadata": {
        "id": "kxX2uxzZ99F6"
      }
    },
    {
      "cell_type": "markdown",
      "source": [
        "*   Ensemble learning method based on decision trees.\n",
        "\n",
        "*   Random Forest builds multiple decision trees during training and outputs the mode of the classes (classification) or the mean prediction (regression) of individual trees.\n",
        "\n",
        "\n",
        "---\n",
        "\n",
        "\n",
        "**How it works?**\n",
        "1.   Each tree in the forest is trained on a different subset of the training data.\n",
        "\n",
        "1.   During prediction, each tree independently classifies the input, and the class with the most votes (mode) is selected as the final prediction.\n"
      ],
      "metadata": {
        "id": "-5R_3k1L9-wi"
      }
    },
    {
      "cell_type": "code",
      "source": [
        "pipeline_rf = Pipeline([\n",
        "    ('imputer', SimpleImputer(strategy='mean')),\n",
        "    ('classifier', RandomForestClassifier(random_state=42))\n",
        "])"
      ],
      "metadata": {
        "id": "MK4anMJw5rWz"
      },
      "execution_count": null,
      "outputs": []
    },
    {
      "cell_type": "markdown",
      "source": [
        "\n",
        "\n",
        "---\n",
        "\n",
        "\n",
        "### **DECISION TREE**\n",
        "\n",
        "\n",
        "---\n",
        "\n"
      ],
      "metadata": {
        "id": "4C9NBfOC-EY5"
      }
    },
    {
      "cell_type": "markdown",
      "source": [
        "*   Decision trees recursively split the input space into regions based on feature values to make decisions.\n",
        "\n",
        "\n",
        "---\n",
        "\n",
        "\n",
        "**How it works?**\n",
        "1.   The tree is built recursively by selecting the best feature to split the data at each node based on a criterion .\n",
        "\n",
        "1.   The process continues until a stopping criterion is met."
      ],
      "metadata": {
        "id": "y12s1Kps-Gdw"
      }
    },
    {
      "cell_type": "code",
      "source": [
        "pipeline_dt = Pipeline([\n",
        "    ('imputer', SimpleImputer(strategy='mean')),\n",
        "    ('classifier', DecisionTreeClassifier(random_state=42))\n",
        "])"
      ],
      "metadata": {
        "id": "jcmaJsz7564O"
      },
      "execution_count": null,
      "outputs": []
    },
    {
      "cell_type": "markdown",
      "source": [
        "\n",
        "\n",
        "---\n",
        "\n",
        "\n",
        "### **SUPPORT VECTOR MACHINES**\n",
        "\n",
        "\n",
        "---\n",
        "\n"
      ],
      "metadata": {
        "id": "X2KaLyXZ-Jm5"
      }
    },
    {
      "cell_type": "markdown",
      "source": [
        "*   SVMs aim to find the hyperplane that best separates the classes in the input space.\n",
        "*   They can handle both linear and non-linear decision boundaries using different kernel functions.\n",
        "\n",
        "\n",
        "---\n",
        "\n",
        "\n",
        "**How it works?**\n",
        "1.   SVMs find the hyperplane with the maximum margin that separates the classes.\n",
        "\n",
        "1.   For non-linear problems, SVMs map the input space into a higher-dimensional space using kernel functions to find a linearly separable hyperplane."
      ],
      "metadata": {
        "id": "y845XSLX-KWi"
      }
    },
    {
      "cell_type": "code",
      "source": [
        "pipeline_svm = Pipeline([\n",
        "    ('imputer', SimpleImputer(strategy='mean')),\n",
        "    ('classifier', SVC(random_state=42))\n",
        "])"
      ],
      "metadata": {
        "id": "MlckTDQ55660"
      },
      "execution_count": null,
      "outputs": []
    },
    {
      "cell_type": "markdown",
      "source": [
        "\n",
        "---\n",
        "\n",
        "\n",
        "### **K Nearest Neighbour**\n",
        "\n",
        "\n",
        "---\n",
        "\n"
      ],
      "metadata": {
        "id": "eKAz1oct-Ou0"
      }
    },
    {
      "cell_type": "markdown",
      "source": [
        "*   Makes predictions based on the majority class or mean value of the k-nearest neighbors in the feature space.\n",
        "*   It does not explicitly learn a model during training but stores all training instances to make predictions.\n",
        "\n",
        "\n",
        "---\n",
        "\n",
        "\n",
        "**How it works?**\n",
        "1.   Identifies the k nearest neighbors in the training data based on a distance metric.\n",
        "\n",
        "1.   The class or value of the new instance is determined by the majority class or mean value of its k-nearest neighbors."
      ],
      "metadata": {
        "id": "SjVpMMSQ-RLa"
      }
    },
    {
      "cell_type": "code",
      "source": [
        "pipeline_knn = Pipeline([\n",
        "    ('imputer', SimpleImputer(strategy='mean')),\n",
        "    ('classifier', KNeighborsClassifier())\n",
        "])"
      ],
      "metadata": {
        "id": "2fKLeRny569c"
      },
      "execution_count": null,
      "outputs": []
    },
    {
      "cell_type": "markdown",
      "source": [
        "\n",
        "\n",
        "---\n",
        "\n",
        "\n",
        "### **NAIVE BAYES CLASSIFIER**\n",
        "\n",
        "\n",
        "---\n",
        "\n"
      ],
      "metadata": {
        "id": "f5YGkIkx-T_h"
      }
    },
    {
      "cell_type": "markdown",
      "source": [
        "*   Models the probability of each class given the input features using Bayes' theorem and assumes that all features are conditionally independent given the class.\n",
        "\n",
        "\n",
        "---\n",
        "\n",
        "\n",
        "**How it works?**\n",
        "1.   Calculates the posterior probability of each class given the input features using Bayes' theorem.\n",
        "\n",
        "1.   The class with the highest posterior probability is selected as the predicted class for the input."
      ],
      "metadata": {
        "id": "-FNt9MM5-UsL"
      }
    },
    {
      "cell_type": "code",
      "source": [
        "pipeline_nb = Pipeline([\n",
        "    ('imputer', SimpleImputer(strategy='mean')),\n",
        "    ('scaler', StandardScaler()),\n",
        "    ('classifier', GaussianNB())\n",
        "])"
      ],
      "metadata": {
        "id": "Jpux6cI657AK"
      },
      "execution_count": null,
      "outputs": []
    },
    {
      "cell_type": "markdown",
      "source": [
        "**FITTING THE PIPELINES**"
      ],
      "metadata": {
        "id": "F9d2qDUs-ZSi"
      }
    },
    {
      "cell_type": "code",
      "source": [
        "# Fit the pipelines on training data and make predictions\n",
        "pipelines = {\n",
        "    'Random Forest': pipeline_rf,\n",
        "    'Decision Tree': pipeline_dt,\n",
        "    'SVM': pipeline_svm,\n",
        "    'kNN': pipeline_knn,\n",
        "    'Naive Bayes': pipeline_nb\n",
        "}"
      ],
      "metadata": {
        "id": "BVHaNapx57E5"
      },
      "execution_count": null,
      "outputs": []
    },
    {
      "cell_type": "markdown",
      "source": [
        "**PRINTING ACCURACIES**"
      ],
      "metadata": {
        "id": "kSQNOoIq-de6"
      }
    },
    {
      "cell_type": "code",
      "source": [
        "accuracies = {}\n",
        "for name, pipeline in pipelines.items():\n",
        "    pipeline.fit(X_train, y_train)\n",
        "    predictions = pipeline.predict(X_test)\n",
        "    accuracy = accuracy_score(y_test, predictions)\n",
        "    accuracies[name] = accuracy\n",
        "    print(f\"{name} Accuracy:\", accuracy)\n",
        "    print(classification_report(y_test, predictions))"
      ],
      "metadata": {
        "colab": {
          "base_uri": "https://localhost:8080/"
        },
        "id": "t7tEzwVp6HDQ",
        "outputId": "ff8c4884-3852-44fb-8060-90b87e08af93"
      },
      "execution_count": null,
      "outputs": [
        {
          "output_type": "stream",
          "name": "stdout",
          "text": [
            "Random Forest Accuracy: 0.8715596330275229\n",
            "              precision    recall  f1-score   support\n",
            "\n",
            "           0       0.90      0.92      0.91        77\n",
            "           1       0.80      0.75      0.77        32\n",
            "\n",
            "    accuracy                           0.87       109\n",
            "   macro avg       0.85      0.84      0.84       109\n",
            "weighted avg       0.87      0.87      0.87       109\n",
            "\n",
            "Decision Tree Accuracy: 0.8899082568807339\n",
            "              precision    recall  f1-score   support\n",
            "\n",
            "           0       0.96      0.88      0.92        77\n",
            "           1       0.76      0.91      0.83        32\n",
            "\n",
            "    accuracy                           0.89       109\n",
            "   macro avg       0.86      0.89      0.87       109\n",
            "weighted avg       0.90      0.89      0.89       109\n",
            "\n",
            "SVM Accuracy: 0.7155963302752294\n",
            "              precision    recall  f1-score   support\n",
            "\n",
            "           0       0.71      1.00      0.83        77\n",
            "           1       1.00      0.03      0.06        32\n",
            "\n",
            "    accuracy                           0.72       109\n",
            "   macro avg       0.86      0.52      0.45       109\n",
            "weighted avg       0.80      0.72      0.61       109\n",
            "\n",
            "kNN Accuracy: 0.7431192660550459\n",
            "              precision    recall  f1-score   support\n",
            "\n",
            "           0       0.78      0.88      0.83        77\n",
            "           1       0.59      0.41      0.48        32\n",
            "\n",
            "    accuracy                           0.74       109\n",
            "   macro avg       0.69      0.64      0.66       109\n",
            "weighted avg       0.73      0.74      0.73       109\n",
            "\n",
            "Naive Bayes Accuracy: 0.7706422018348624\n",
            "              precision    recall  f1-score   support\n",
            "\n",
            "           0       0.92      0.74      0.82        77\n",
            "           1       0.57      0.84      0.68        32\n",
            "\n",
            "    accuracy                           0.77       109\n",
            "   macro avg       0.75      0.79      0.75       109\n",
            "weighted avg       0.82      0.77      0.78       109\n",
            "\n"
          ]
        }
      ]
    },
    {
      "cell_type": "code",
      "source": [
        "# Plot the accuracies\n",
        "classifiers_names = list(accuracies.keys())\n",
        "accuracy_values = list(accuracies.values())\n",
        "\n",
        "plt.figure(figsize=(10, 6))\n",
        "plt.bar(classifiers_names, accuracy_values, color='skyblue')\n",
        "plt.xlabel('Classifiers')\n",
        "plt.ylabel('Accuracy')\n",
        "plt.title('Accuracy Comparison of Different Classifiers')\n",
        "plt.ylim(0.0, 1.0)\n",
        "plt.grid(axis='y', linestyle='--', alpha=0.7)\n",
        "plt.show()"
      ],
      "metadata": {
        "colab": {
          "base_uri": "https://localhost:8080/",
          "height": 424
        },
        "id": "yQbdGkWq6HGN",
        "outputId": "b6acf548-67cc-4feb-f704-064d7b5c0aa4"
      },
      "execution_count": null,
      "outputs": [
        {
          "output_type": "display_data",
          "data": {
            "text/plain": [
              "<Figure size 1000x600 with 1 Axes>"
            ],
            "image/png": "[encoded data removed]"
          },
          "metadata": {}
        }
      ]
    },
    {
      "cell_type": "code",
      "source": [],
      "metadata": {
        "id": "n84bejzE6HKG"
      },
      "execution_count": null,
      "outputs": []
    }
  ]
}